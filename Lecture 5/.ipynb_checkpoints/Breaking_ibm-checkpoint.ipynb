{
 "cells": [
  {
   "cell_type": "code",
   "execution_count": null,
   "metadata": {},
   "outputs": [],
   "source": [
    "# Qiskit setup\n",
    "from qiskit_ibm_runtime import QiskitRuntimeService\n",
    "\n",
    "\n",
    "# This uses a local simulator\n",
    "from qiskit_aer import AerSimulator\n",
    "\n",
    "#Load the Runtime primitive and session\n",
    "from qiskit_ibm_runtime import Options, Session, SamplerV2 as Sampler\n",
    "\n",
    "# #Use the least busy backend\n",
    "# service = QiskitRuntimeService(channel='ibm_quantum')\n",
    "# backend = service.least_busy()\n",
    "# print(backend.name)\n",
    "# This generates a simulator that mimics the real quantum system\n",
    "backend_sim = AerSimulator()\n",
    "\n",
    "#Import an estimator, this time from qiskit (we import from Runtime for real hardware)\n",
    "from qiskit.primitives import BackendSampler\n",
    "service = QiskitRuntimeService(channel='ibm_quantum')\n",
    "backend = service.least_busy()\n",
    "print(backend.name)\n",
    "sampler = Sampler(mode=backend)\n",
    "sampler.options.default_shots = 100\n",
    "\n",
    "\n",
    "from qiskit_aer import AerSimulator\n",
    "from qiskit_ibm_runtime import Options, Session, SamplerV2 as Sampler\n",
    "backend_sim = AerSimulator()\n",
    "simulator = AerSimulator()\n",
    "\n",
    "#Import an estimator, this time from qiskit (we import from Runtime for real hardware)\n",
    "from qiskit.primitives import BackendSampler\n",
    "sampler = BackendSampler(backend = backend_sim)\n",
    "import numpy as np\n",
    "from qiskit.visualization import plot_bloch_vector, plot_histogram\n",
    "import matplotlib.pyplot as plt\n",
    "\n",
    "from qiskit.circuit import QuantumRegister, ClassicalRegister, QuantumCircuit, Parameter\n",
    "from qiskit import QuantumCircuit, transpile\n",
    "from qiskit.result import marginal_counts\n",
    "from qiskit.quantum_info import SparsePauliOp\n",
    "from qiskit_ibm_runtime import EstimatorV2 as Estimator\n",
    "\n"
   ]
  },
  {
   "cell_type": "code",
   "execution_count": null,
   "metadata": {
    "scrolled": true
   },
   "outputs": [],
   "source": [
    "def circuit_ghz(qc_bell,n):\n",
    "    qc_bell.h(0)\n",
    "    for k in range(1,n):\n",
    "        print(k)\n",
    "        qc_bell.cx(0,k)\n",
    "    return qc_bell\n",
    "\n",
    "\n",
    "def circuit_ghz_boost(qc_bell,n):\n",
    "    qc_bell.h(0)\n",
    "    qc_bell.cx(0,1)\n",
    "    compt=1\n",
    "    a=1\n",
    "    while compt<n and a!=0:\n",
    "        a=0\n",
    "        for k in range(compt+1):\n",
    "            if compt+k+1<n:\n",
    "                qc_bell.cx(k,compt+1+k)\n",
    "                a+=1\n",
    "        compt+=a\n",
    "    return qc_bell\n",
    "\n",
    "n=2**4\n",
    "qc_bell = QuantumCircuit(n)\n",
    "qc_bell=circuit_ghz_boost(qc_bell,n)\n",
    "qc_bell.measure_all()\n",
    "qc_bell.draw('mpl')\n"
   ]
  },
  {
   "cell_type": "code",
   "execution_count": null,
   "metadata": {},
   "outputs": [],
   "source": [
    "from qiskit_ibm_runtime import QiskitRuntimeService\n",
    "\n",
    "service = QiskitRuntimeService(channel='ibm_quantum')\n",
    "backend = service.least_busy()\n",
    "print(backend.name)\n",
    "sampler = Sampler(mode=backend)\n",
    "sampler.options.default_shots = 100"
   ]
  },
  {
   "cell_type": "code",
   "execution_count": null,
   "metadata": {},
   "outputs": [],
   "source": [
    "# transpiling the circuits\n",
    "from qiskit.transpiler.preset_passmanagers import generate_preset_pass_manager\n",
    "pm = generate_preset_pass_manager(optimization_level=3, backend=backend)\n",
    "qc_transpiled = pm.run(qc_bell)"
   ]
  },
  {
   "cell_type": "code",
   "execution_count": null,
   "metadata": {
    "scrolled": true
   },
   "outputs": [],
   "source": [
    "qc_transpiled.draw('mpl', idle_wires=False)"
   ]
  },
  {
   "cell_type": "code",
   "execution_count": null,
   "metadata": {},
   "outputs": [],
   "source": [
    "shots = 10_000\n",
    "job = sampler.run([qc_transpiled], shots=shots)"
   ]
  },
  {
   "cell_type": "code",
   "execution_count": null,
   "metadata": {},
   "outputs": [],
   "source": [
    "print(f\">>> Job ID: {job.job_id()}\")\n",
    "print(f\">>> Job Status: {job.status()}\")"
   ]
  },
  {
   "cell_type": "code",
   "execution_count": null,
   "metadata": {},
   "outputs": [],
   "source": [
    "job.result()[0].data"
   ]
  },
  {
   "cell_type": "code",
   "execution_count": null,
   "metadata": {},
   "outputs": [],
   "source": [
    "counts = job.result()[0].data.meas.get_counts()\n",
    "#plot_histogram(counts)\n",
    "def dist(x):\n",
    "    nb1=0\n",
    "    nb0=0\n",
    "    for k in x:\n",
    "        if k=='1':\n",
    "            nb1+=1\n",
    "        else:\n",
    "            nb0+=1\n",
    "    return min(nb0,nb1)\n",
    "L=[]\n",
    "for k in counts:\n",
    "    a=counts[k]\n",
    "    for i in range(a):\n",
    "        L.append(dist(k))\n",
    "plt.hist(L)\n",
    "esp_erreur=sum(L)/len(L)\n",
    "plt.legend(['minimum hamming distance'])\n",
    "plt.title(\"Expectation of the min hamming distance: \"+str(esp_erreur))\n",
    "dico={k : 0 for k in range(9)}\n",
    "for k in L:\n",
    "    dico[k]=dico[k]+1\n",
    "print(dico)"
   ]
  },
  {
   "cell_type": "code",
   "execution_count": null,
   "metadata": {},
   "outputs": [],
   "source": []
  },
  {
   "cell_type": "code",
   "execution_count": null,
   "metadata": {},
   "outputs": [],
   "source": []
  },
  {
   "cell_type": "code",
   "execution_count": null,
   "metadata": {},
   "outputs": [],
   "source": []
  }
 ],
 "metadata": {
  "kernelspec": {
   "display_name": "Python 3 (ipykernel)",
   "language": "python",
   "name": "python3"
  },
  "language_info": {
   "codemirror_mode": {
    "name": "ipython",
    "version": 3
   },
   "file_extension": ".py",
   "mimetype": "text/x-python",
   "name": "python",
   "nbconvert_exporter": "python",
   "pygments_lexer": "ipython3",
   "version": "3.9.13"
  }
 },
 "nbformat": 4,
 "nbformat_minor": 4
}
